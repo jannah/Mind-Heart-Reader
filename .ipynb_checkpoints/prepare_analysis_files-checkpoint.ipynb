{
 "metadata": {
  "name": "",
  "signature": "sha256:87dedc9ebb04be6085f7551c6c57b1949f482226b97f872e16d7c624f3f75d78"
 },
 "nbformat": 3,
 "nbformat_minor": 0,
 "worksheets": [
  {
   "cells": [
    {
     "cell_type": "code",
     "collapsed": false,
     "input": [
      "from app import app\n",
      "from app.models import *\n",
      "import os, sys"
     ],
     "language": "python",
     "metadata": {},
     "outputs": [],
     "prompt_number": 17
    },
    {
     "cell_type": "code",
     "collapsed": false,
     "input": [
      "def process_csv(csv_file):\n",
      "    pass"
     ],
     "language": "python",
     "metadata": {},
     "outputs": []
    },
    {
     "cell_type": "code",
     "collapsed": false,
     "input": [
      "INPUT_DIR = 'sensor_data'\n",
      "dirs = os.listdir(INPUT_DIR)\n",
      "dirs\n",
      "for di in dirs:\n",
      "    di = os.path.join(INPUT_DIR, di)\n",
      "    if os.path.isdir(di):\n",
      "        csv = [f for f in os.listdir(di) if f.endswith('.csv')] [0]\n",
      "        print csv\n",
      "        "
     ],
     "language": "python",
     "metadata": {},
     "outputs": [
      {
       "output_type": "stream",
       "stream": "stdout",
       "text": [
        "Results-Eman-19-Oct-2014-01-32-55.csv\n",
        "Results-HMJ-18-Oct-2014-00-24-17.csv\n",
        "Results-HMJ2-18-Oct-2014-14-52-53.csv\n",
        "Results-HMJ_Sound-19-Oct-2014-01-15-06.csv\n"
       ]
      }
     ],
     "prompt_number": 16
    }
   ],
   "metadata": {}
  }
 ]
}