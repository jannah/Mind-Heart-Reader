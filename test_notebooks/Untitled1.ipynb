{
 "metadata": {
  "name": "",
  "signature": "sha256:8232d38ce415708466ff3b2c6b61278a0cbf019247dbdae06870d7c47c0f59ce"
 },
 "nbformat": 3,
 "nbformat_minor": 0,
 "worksheets": [
  {
   "cells": [
    {
     "cell_type": "code",
     "collapsed": false,
     "input": [
      "from datetime import timedelta\n",
      "import datetime\n",
      "def get_timestamp_from_filename(filename):\n",
      "#    import dateutil.parser as dparser\n",
      "    from time import strptime, strftime\n",
      "#    datetime.datetime.strptime(msg['date'][:-6], '%a, %d %b %Y %H:%M:%S')\n",
      "    tpart = filename[-24:]\n",
      "#    print tpart\n",
      "    tpart = tpart[:20]\n",
      "#    print tpart\n",
      "#    ts = dparser.parse(tpart,fuzzy=True)\n",
      "    ts =strptime(tpart, \"%d-%b-%Y-%H-%M-%S\")  \n",
      "#    print strftime('%Y-%m-%d %H:%M:%S', ts)\n",
      "    return ts\n",
      "\n",
      "def format_date_as_string(ts):\n",
      "    return strftime('%Y-%m-%d %H:%M:%S', ts)\n",
      "\n",
      "\n",
      "filename = 'Results-HMJ_Sound-19-Oct-2014-01-15-06.csv'\n",
      "ts = get_timestamp_from_filename(filename)\n",
      "ts"
     ],
     "language": "python",
     "metadata": {},
     "outputs": [
      {
       "metadata": {},
       "output_type": "pyout",
       "prompt_number": 14,
       "text": [
        "time.struct_time(tm_year=2014, tm_mon=10, tm_mday=19, tm_hour=1, tm_min=15, tm_sec=6, tm_wday=6, tm_yday=292, tm_isdst=-1)"
       ]
      }
     ],
     "prompt_number": 14
    },
    {
     "cell_type": "code",
     "collapsed": false,
     "input": [
      "\n",
      "from time import mktime\n",
      "from datetime import datetime\n",
      "\n",
      "dt = datetime.fromtimestamp(mktime(ts))\n",
      "dt\n",
      "row_ts = dt+timedelta(seconds=-1)\n",
      "print str(row_ts)\n",
      "# timestamp = format_date_as_string(row_ts)"
     ],
     "language": "python",
     "metadata": {},
     "outputs": [
      {
       "output_type": "stream",
       "stream": "stdout",
       "text": [
        "2014-10-19 01:15:05\n"
       ]
      }
     ],
     "prompt_number": 23
    },
    {
     "cell_type": "code",
     "collapsed": false,
     "input": [
      "for i in range(9, -1, -1):\n",
      "    print i"
     ],
     "language": "python",
     "metadata": {},
     "outputs": [
      {
       "output_type": "stream",
       "stream": "stdout",
       "text": [
        "9\n",
        "8\n",
        "7\n",
        "6\n",
        "5\n",
        "4\n",
        "3\n",
        "2\n",
        "1\n",
        "0\n"
       ]
      }
     ],
     "prompt_number": 29
    }
   ],
   "metadata": {}
  }
 ]
}