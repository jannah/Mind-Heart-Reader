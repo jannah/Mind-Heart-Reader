{
 "metadata": {
  "name": "",
  "signature": "sha256:532411ebb805413b0511d47809dc21ff5776299aa423277188adeaf3cc961380"
 },
 "nbformat": 3,
 "nbformat_minor": 0,
 "worksheets": [
  {
   "cells": [
    {
     "cell_type": "code",
     "collapsed": false,
     "input": [
      "from datetime import timedelta\n",
      "import datetime\n",
      "def get_timestamp_from_filename(filename):\n",
      "#    import dateutil.parser as dparser\n",
      "    from time import strptime, strftime\n",
      "#    datetime.datetime.strptime(msg['date'][:-6], '%a, %d %b %Y %H:%M:%S')\n",
      "    tpart = filename[-24:]\n",
      "#    print tpart\n",
      "    tpart = tpart[:20]\n",
      "#    print tpart\n",
      "#    ts = dparser.parse(tpart,fuzzy=True)\n",
      "    ts =strptime(tpart, \"%d-%b-%Y-%H-%M-%S\")  \n",
      "#    print strftime('%Y-%m-%d %H:%M:%S', ts)\n",
      "    return ts\n",
      "\n",
      "def format_date_as_string(ts):\n",
      "    return strftime('%Y-%m-%d %H:%M:%S', ts)\n",
      "\n",
      "\n",
      "filename = 'Results-HMJ_Sound-19-Oct-2014-01-15-06.csv'\n",
      "ts = get_timestamp_from_filename(filename)\n",
      "ts"
     ],
     "language": "python",
     "metadata": {},
     "outputs": [
      {
       "metadata": {},
       "output_type": "pyout",
       "prompt_number": 14,
       "text": [
        "time.struct_time(tm_year=2014, tm_mon=10, tm_mday=19, tm_hour=1, tm_min=15, tm_sec=6, tm_wday=6, tm_yday=292, tm_isdst=-1)"
       ]
      }
     ],
     "prompt_number": 14
    },
    {
     "cell_type": "code",
     "collapsed": false,
     "input": [
      "\n",
      "from time import mktime\n",
      "from datetime import datetime\n",
      "\n",
      "dt = datetime.fromtimestamp(mktime(ts))\n",
      "row_ts = ts+1\n",
      "timestamp = format_date_as_string(row_ts)"
     ],
     "language": "python",
     "metadata": {},
     "outputs": [
      {
       "ename": "NameError",
       "evalue": "name 'struct' is not defined",
       "output_type": "pyerr",
       "traceback": [
        "\u001b[1;31m---------------------------------------------------------------------------\u001b[0m\n\u001b[1;31mNameError\u001b[0m                                 Traceback (most recent call last)",
        "\u001b[1;32m<ipython-input-18-c45fc77469db>\u001b[0m in \u001b[0;36m<module>\u001b[1;34m()\u001b[0m\n\u001b[0;32m      3\u001b[0m \u001b[1;32mfrom\u001b[0m \u001b[0mdatetime\u001b[0m \u001b[1;32mimport\u001b[0m \u001b[0mdatetime\u001b[0m\u001b[1;33m\u001b[0m\u001b[0m\n\u001b[0;32m      4\u001b[0m \u001b[1;33m\u001b[0m\u001b[0m\n\u001b[1;32m----> 5\u001b[1;33m \u001b[0mdt\u001b[0m \u001b[1;33m=\u001b[0m \u001b[0mdatetime\u001b[0m\u001b[1;33m.\u001b[0m\u001b[0mfromtimestamp\u001b[0m\u001b[1;33m(\u001b[0m\u001b[0mmktime\u001b[0m\u001b[1;33m(\u001b[0m\u001b[0mstruct\u001b[0m\u001b[1;33m)\u001b[0m\u001b[1;33m)\u001b[0m\u001b[1;33m\u001b[0m\u001b[0m\n\u001b[0m\u001b[0;32m      6\u001b[0m \u001b[0mrow_ts\u001b[0m \u001b[1;33m=\u001b[0m \u001b[0mts\u001b[0m\u001b[1;33m+\u001b[0m\u001b[1;36m1\u001b[0m\u001b[1;33m\u001b[0m\u001b[0m\n\u001b[0;32m      7\u001b[0m \u001b[0mtimestamp\u001b[0m \u001b[1;33m=\u001b[0m \u001b[0mformat_date_as_string\u001b[0m\u001b[1;33m(\u001b[0m\u001b[0mrow_ts\u001b[0m\u001b[1;33m)\u001b[0m\u001b[1;33m\u001b[0m\u001b[0m\n",
        "\u001b[1;31mNameError\u001b[0m: name 'struct' is not defined"
       ]
      }
     ],
     "prompt_number": 18
    }
   ],
   "metadata": {}
  }
 ]
}