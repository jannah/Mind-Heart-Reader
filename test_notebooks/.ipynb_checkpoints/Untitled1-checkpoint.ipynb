{
 "metadata": {
  "name": "",
  "signature": "sha256:aca7e45ebd8f16fa8916dbac270749d0c14cd92f7ef7c0189b42b3f1172980a7"
 },
 "nbformat": 3,
 "nbformat_minor": 0,
 "worksheets": [
  {
   "cells": [
    {
     "cell_type": "code",
     "collapsed": false,
     "input": [
      "import scipy.io\n",
      "import csv\n",
      "# mat = scipy.io.loadmat('C:\\Users\\Divyakumar\\Documents\\GitHub\\Mind-Heart-Reader\\sensor_data\\HMJ_Sound\\Results-HMJ_Sound-19-Oct-2014-01-15-06.mat')\n",
      "# print mat\n"
     ],
     "language": "python",
     "metadata": {},
     "outputs": [],
     "prompt_number": 3
    },
    {
     "cell_type": "code",
     "collapsed": false,
     "input": [
      "import numpy as np\n",
      "from scipy.io import loadmat  # this is the SciPy module that loads mat-files\n",
      "import matplotlib.pyplot as plt\n",
      "from datetime import datetime, date, time\n",
      "import pandas as pd\n",
      " \n",
      "mat = loadmat('C:\\Users\\Divyakumar\\Documents\\GitHub\\Mind-Heart-Reader\\sensor_data\\HMJ_Sound\\Results-HMJ_Sound-19-Oct-2014-01-15-06.mat')\n",
      "mdata = mat['HMJ_Sound']  # variable in mat file\n",
      "mdtype = mdata.dtype  # dtypes of structures are \"unsized objects\"\n",
      "ndata = {n: mdata[n][0, 0] for n in mdtype.names}\n",
      "columns = [n for n, v in ndata.iteritems()]\n",
      "print columns\n",
      "# df = pd.DataFrame(np.concatenate([ndata[c] for c in columns], axis=1),columns=columns)"
     ],
     "language": "python",
     "metadata": {},
     "outputs": [
      {
       "ename": "KeyError",
       "evalue": "'HMJ_Sound'",
       "output_type": "pyerr",
       "traceback": [
        "\u001b[1;31m---------------------------------------------------------------------------\u001b[0m\n\u001b[1;31mKeyError\u001b[0m                                  Traceback (most recent call last)",
        "\u001b[1;32m<ipython-input-8-74db41119634>\u001b[0m in \u001b[0;36m<module>\u001b[1;34m()\u001b[0m\n\u001b[0;32m      6\u001b[0m \u001b[1;33m\u001b[0m\u001b[0m\n\u001b[0;32m      7\u001b[0m \u001b[0mmat\u001b[0m \u001b[1;33m=\u001b[0m \u001b[0mloadmat\u001b[0m\u001b[1;33m(\u001b[0m\u001b[1;34m'C:\\Users\\Divyakumar\\Documents\\GitHub\\Mind-Heart-Reader\\sensor_data\\HMJ_Sound\\Results-HMJ_Sound-19-Oct-2014-01-15-06.mat'\u001b[0m\u001b[1;33m)\u001b[0m\u001b[1;33m\u001b[0m\u001b[0m\n\u001b[1;32m----> 8\u001b[1;33m \u001b[0mmdata\u001b[0m \u001b[1;33m=\u001b[0m \u001b[0mmat\u001b[0m\u001b[1;33m[\u001b[0m\u001b[1;34m'HMJ_Sound'\u001b[0m\u001b[1;33m]\u001b[0m  \u001b[1;31m# variable in mat file\u001b[0m\u001b[1;33m\u001b[0m\u001b[0m\n\u001b[0m\u001b[0;32m      9\u001b[0m \u001b[0mmdtype\u001b[0m \u001b[1;33m=\u001b[0m \u001b[0mmdata\u001b[0m\u001b[1;33m.\u001b[0m\u001b[0mdtype\u001b[0m  \u001b[1;31m# dtypes of structures are \"unsized objects\"\u001b[0m\u001b[1;33m\u001b[0m\u001b[0m\n\u001b[0;32m     10\u001b[0m \u001b[0mndata\u001b[0m \u001b[1;33m=\u001b[0m \u001b[1;33m{\u001b[0m\u001b[0mn\u001b[0m\u001b[1;33m:\u001b[0m \u001b[0mmdata\u001b[0m\u001b[1;33m[\u001b[0m\u001b[0mn\u001b[0m\u001b[1;33m]\u001b[0m\u001b[1;33m[\u001b[0m\u001b[1;36m0\u001b[0m\u001b[1;33m,\u001b[0m \u001b[1;36m0\u001b[0m\u001b[1;33m]\u001b[0m \u001b[1;32mfor\u001b[0m \u001b[0mn\u001b[0m \u001b[1;32min\u001b[0m \u001b[0mmdtype\u001b[0m\u001b[1;33m.\u001b[0m\u001b[0mnames\u001b[0m\u001b[1;33m}\u001b[0m\u001b[1;33m\u001b[0m\u001b[0m\n",
        "\u001b[1;31mKeyError\u001b[0m: 'HMJ_Sound'"
       ]
      }
     ],
     "prompt_number": 8
    }
   ],
   "metadata": {}
  }
 ]
}