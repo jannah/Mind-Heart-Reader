{
 "metadata": {
  "name": "",
  "signature": "sha256:eade84b2f09956d27721a3b500b4dc964eb3cd0f3c0325e78d1f16ab1ee923da"
 },
 "nbformat": 3,
 "nbformat_minor": 0,
 "worksheets": [
  {
   "cells": [
    {
     "cell_type": "code",
     "collapsed": false,
     "input": [
      "MODULES_PATH = '''C:\\Users\\Hassan\\Dropbox\\Berkeley\\iSchool\\CURRENT Courses\\INFO 290_8 - Sensors Humans Data Apps\\Projects\\Mind-Heart-Reader\\\\mind-heart-reader.py'''\n",
      "print MODULES_PATH\n",
      "import imp\n",
      "NF = imp.load_source('mind-heart-reader', MODULES_PATH)\n",
      "import app\n"
     ],
     "language": "python",
     "metadata": {},
     "outputs": [
      {
       "output_type": "stream",
       "stream": "stdout",
       "text": [
        "C:\\Users\\Hassan\\Dropbox\\Berkeley\\iSchool\\CURRENT Courses\\INFO 290_8 - Sensors Humans Data Apps\\Projects\\Mind-Heart-Reader\\mind-heart-reader.py\n"
       ]
      },
      {
       "ename": "ImportError",
       "evalue": "No module named app",
       "output_type": "pyerr",
       "traceback": [
        "\u001b[1;31m---------------------------------------------------------------------------\u001b[0m\n\u001b[1;31mImportError\u001b[0m                               Traceback (most recent call last)",
        "\u001b[1;32m<ipython-input-18-9adf90330d2d>\u001b[0m in \u001b[0;36m<module>\u001b[1;34m()\u001b[0m\n\u001b[0;32m      2\u001b[0m \u001b[1;32mprint\u001b[0m \u001b[0mMODULES_PATH\u001b[0m\u001b[1;33m\u001b[0m\u001b[0m\n\u001b[0;32m      3\u001b[0m \u001b[1;32mimport\u001b[0m \u001b[0mimp\u001b[0m\u001b[1;33m\u001b[0m\u001b[0m\n\u001b[1;32m----> 4\u001b[1;33m \u001b[0mNF\u001b[0m \u001b[1;33m=\u001b[0m \u001b[0mimp\u001b[0m\u001b[1;33m.\u001b[0m\u001b[0mload_source\u001b[0m\u001b[1;33m(\u001b[0m\u001b[1;34m'mind-heart-reader'\u001b[0m\u001b[1;33m,\u001b[0m \u001b[0mMODULES_PATH\u001b[0m\u001b[1;33m)\u001b[0m\u001b[1;33m\u001b[0m\u001b[0m\n\u001b[0m\u001b[0;32m      5\u001b[0m \u001b[1;32mimport\u001b[0m \u001b[0mapp\u001b[0m\u001b[1;33m\u001b[0m\u001b[0m\n",
        "\u001b[1;32mC:\\Users\\Hassan\\Dropbox\\Berkeley\\iSchool\\CURRENT Courses\\INFO 290_8 - Sensors Humans Data Apps\\Projects\\Mind-Heart-Reader\\mind-heart-reader.py\u001b[0m in \u001b[0;36m<module>\u001b[1;34m()\u001b[0m\n\u001b[0;32m      5\u001b[0m \u001b[0m__author__\u001b[0m\u001b[1;33m=\u001b[0m\u001b[1;34m\"Hassan\"\u001b[0m\u001b[1;33m\u001b[0m\u001b[0m\n\u001b[0;32m      6\u001b[0m \u001b[0m__date__\u001b[0m \u001b[1;33m=\u001b[0m\u001b[1;34m\"$Sep 24, 2014 1:34:35 PM$\"\u001b[0m\u001b[1;33m\u001b[0m\u001b[0m\n\u001b[1;32m----> 7\u001b[1;33m \u001b[1;32mfrom\u001b[0m \u001b[0mapp\u001b[0m \u001b[1;32mimport\u001b[0m \u001b[0mapp\u001b[0m\u001b[1;33m\u001b[0m\u001b[0m\n\u001b[0m\u001b[0;32m      8\u001b[0m \u001b[1;33m\u001b[0m\u001b[0m\n\u001b[0;32m      9\u001b[0m \u001b[1;33m\u001b[0m\u001b[0m\n",
        "\u001b[1;31mImportError\u001b[0m: No module named app"
       ]
      }
     ],
     "prompt_number": 18
    }
   ],
   "metadata": {}
  }
 ]
}