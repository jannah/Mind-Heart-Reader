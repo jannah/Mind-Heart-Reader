{
 "metadata": {
  "name": "",
  "signature": "sha256:6af56583276a10596f97097ae6e51c82634f2d660ea0004434d8b049c4ce1509"
 },
 "nbformat": 3,
 "nbformat_minor": 0,
 "worksheets": [
  {
   "cells": [
    {
     "cell_type": "code",
     "collapsed": false,
     "input": [
      "import pandas as pd\n",
      "import sqlite3"
     ],
     "language": "python",
     "metadata": {},
     "outputs": [],
     "prompt_number": 1
    },
    {
     "cell_type": "code",
     "collapsed": false,
     "input": [
      "con = sqlite3.connect(\"..//Mind-Heart-Reader.db\")\n",
      "df = pd.read_sql(\"SELECT * from MHREADER_EXPERIMENTS LIMIT 3\", con)\n",
      "df"
     ],
     "language": "python",
     "metadata": {},
     "outputs": [
      {
       "html": [
        "<div style=\"max-height:1000px;max-width:1500px;overflow:auto;\">\n",
        "<table border=\"1\" class=\"dataframe\">\n",
        "  <thead>\n",
        "    <tr style=\"text-align: right;\">\n",
        "      <th></th>\n",
        "      <th>id</th>\n",
        "      <th>title</th>\n",
        "      <th>user_id</th>\n",
        "      <th>experiment_set_id</th>\n",
        "      <th>remarks</th>\n",
        "      <th>start_time</th>\n",
        "      <th>end_time</th>\n",
        "      <th>completed</th>\n",
        "    </tr>\n",
        "  </thead>\n",
        "  <tbody>\n",
        "    <tr>\n",
        "      <th>0</th>\n",
        "      <td> 1</td>\n",
        "      <td>  Test1</td>\n",
        "      <td> 1</td>\n",
        "      <td> 1</td>\n",
        "      <td> </td>\n",
        "      <td> None</td>\n",
        "      <td> None</td>\n",
        "      <td> None</td>\n",
        "    </tr>\n",
        "    <tr>\n",
        "      <th>1</th>\n",
        "      <td> 2</td>\n",
        "      <td> test 3</td>\n",
        "      <td> 1</td>\n",
        "      <td> 3</td>\n",
        "      <td> </td>\n",
        "      <td> None</td>\n",
        "      <td> None</td>\n",
        "      <td> None</td>\n",
        "    </tr>\n",
        "  </tbody>\n",
        "</table>\n",
        "<p>2 rows \u00d7 8 columns</p>\n",
        "</div>"
       ],
       "metadata": {},
       "output_type": "pyout",
       "prompt_number": 2,
       "text": [
        "   id   title  user_id  experiment_set_id remarks start_time end_time  \\\n",
        "0   1   Test1        1                  1               None     None   \n",
        "1   2  test 3        1                  3               None     None   \n",
        "\n",
        "  completed  \n",
        "0      None  \n",
        "1      None  \n",
        "\n",
        "[2 rows x 8 columns]"
       ]
      }
     ],
     "prompt_number": 2
    }
   ],
   "metadata": {}
  }
 ]
}