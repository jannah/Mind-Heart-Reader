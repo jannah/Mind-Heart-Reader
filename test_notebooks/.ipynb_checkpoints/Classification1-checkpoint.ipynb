{
 "metadata": {
  "name": "",
  "signature": "sha256:8d8a6d9a7a20f4e762e102cb6c3fca1aa283e422b7d30d1ca17d92a7dfd31d53"
 },
 "nbformat": 3,
 "nbformat_minor": 0,
 "worksheets": [
  {
   "cells": [
    {
     "cell_type": "code",
     "collapsed": false,
     "input": [
      "from __future__ import division\n",
      "%matplotlib inline\n",
      "import matplotlib.pyplot as plt\n",
      "import pandas as pd\n",
      "import sqlite3\n",
      "import random\n",
      "from datetime import datetime\n",
      "import numpy as np\n",
      "from sklearn.ensemble import RandomForestClassifier # random forest\n",
      "from sklearn.svm import SVC # support vector machine classifier\n",
      "from sklearn.grid_search import GridSearchCV # hyperparameter grid search to find best model parameters\n",
      "from sklearn import preprocessing # preprocess string labels into numerics\n",
      "import numpy as np\n",
      "from sklearn import *\n",
      "from sklearn.metrics import *\n",
      "from sklearn.multiclass import OutputCodeClassifier\n",
      "from sklearn.multiclass import OneVsOneClassifier\n",
      "from sklearn.svm import LinearSVC\n",
      "from sklearn.metrics import confusion_matrix\n"
     ],
     "language": "python",
     "metadata": {},
     "outputs": [],
     "prompt_number": 40
    },
    {
     "cell_type": "code",
     "collapsed": false,
     "input": [
      "con = sqlite3.connect(\"C:\\Users\\Divyakumar\\Documents\\GitHub\\Mind-Heart-Reader\\Mind-Heart-Reader.db\")\n",
      "df = pd.read_sql(\"SELECT * FROM mhreader_mindwave_logs where experiment_id in (5,6,7,13,10,15,16,17,18,20,23,24) and response in ('like','neutral','dislike');\" ,con, index_col='id')\n",
      "len(df)"
     ],
     "language": "python",
     "metadata": {},
     "outputs": [
      {
       "metadata": {},
       "output_type": "pyout",
       "prompt_number": 41,
       "text": [
        "4489"
       ]
      }
     ],
     "prompt_number": 41
    },
    {
     "cell_type": "code",
     "collapsed": false,
     "input": [
      "cols = df.columns.tolist()\n",
      "cols = ['response', 'attention', 'meditation', 'familiarity', 'mental_effort', 'appreciation', 'signal_quality', 'delta', 'theta', 'alpha', 'beta', 'gamma']\n",
      "print cols\n",
      "# df3 = df3[cols]\n",
      "# df3.head()"
     ],
     "language": "python",
     "metadata": {},
     "outputs": [
      {
       "output_type": "stream",
       "stream": "stdout",
       "text": [
        "['response', 'attention', 'meditation', 'familiarity', 'mental_effort', 'appreciation', 'signal_quality', 'delta', 'theta', 'alpha', 'beta', 'gamma']\n"
       ]
      }
     ],
     "prompt_number": 71
    },
    {
     "cell_type": "code",
     "collapsed": false,
     "input": [
      "X, y = df[cols[1:]], df[cols[0]]"
     ],
     "language": "python",
     "metadata": {},
     "outputs": [],
     "prompt_number": 72
    },
    {
     "cell_type": "code",
     "collapsed": false,
     "input": [
      "from sklearn.cross_validation import train_test_split\n",
      "X_train, X_test, y_train, y_test = train_test_split(X, y, test_size=0.1, random_state=0)\n",
      "print len(X_train),len(y_train), len(X_test),len(y_test)"
     ],
     "language": "python",
     "metadata": {},
     "outputs": [
      {
       "output_type": "stream",
       "stream": "stdout",
       "text": [
        "4040 4040 449 449\n"
       ]
      }
     ],
     "prompt_number": 73
    },
    {
     "cell_type": "code",
     "collapsed": false,
     "input": [
      "np.unique(y_train)"
     ],
     "language": "python",
     "metadata": {},
     "outputs": [
      {
       "metadata": {},
       "output_type": "pyout",
       "prompt_number": 74,
       "text": [
        "array([u'dislike', u'like', u'neutral'], dtype=object)"
       ]
      }
     ],
     "prompt_number": 74
    },
    {
     "cell_type": "code",
     "collapsed": false,
     "input": [
      "y_train"
     ],
     "language": "python",
     "metadata": {},
     "outputs": [
      {
       "metadata": {},
       "output_type": "pyout",
       "prompt_number": 75,
       "text": [
        "array([u'like', u'like', u'like', ..., u'dislike', u'like', u'like'], dtype=object)"
       ]
      }
     ],
     "prompt_number": 75
    },
    {
     "cell_type": "code",
     "collapsed": false,
     "input": [
      "pred = OneVsOneClassifier(LinearSVC()).fit(X_train, y_train).predict(X_test)\n",
      "# pred = clf.fit(X_train, y_train).predict(X_test)\n",
      "# print \"Classifier predicted - \",pred\n",
      "print 'Prediction accuracy: %.4f' % (1 - (1. / len(y_test) * sum( pred != y_test )))\n",
      "print \"\\nActual by user\"\n",
      "pd.DataFrame(y_test).head()\n",
      "print np.unique(pred)"
     ],
     "language": "python",
     "metadata": {},
     "outputs": [
      {
       "output_type": "stream",
       "stream": "stdout",
       "text": [
        "Prediction accuracy: 0.5412\n",
        "\n",
        "Actual by user\n",
        "[u'dislike' u'like' u'neutral']\n"
       ]
      }
     ],
     "prompt_number": 101
    },
    {
     "cell_type": "code",
     "collapsed": false,
     "input": [
      "# clf = OutputCodeClassifier(LinearSVC(random_state=0),code_size=2, random_state=0)\n",
      "# pred = clf.fit(X_train, y_train).predict(X_test)\n",
      "# # print \"Classifier predicted - \",pred\n",
      "# print 'Prediction accuracy: %.4f' % (1 - (1. / len(y_test) * sum( pred != y_test )))\n",
      "# print \"\\nActual by user\"\n",
      "# pd.DataFrame(y_test).head()\n",
      "# print np.unique(pred)"
     ],
     "language": "python",
     "metadata": {},
     "outputs": []
    },
    {
     "cell_type": "code",
     "collapsed": false,
     "input": [
      "import numpy as np\n",
      "import matplotlib.pyplot as plt\n",
      "\n",
      "fs = 30.0\n",
      "t = np.arange(0,10,1/fs)\n",
      "x = np.cos(2*np.pi*10*t)\n",
      "\n",
      "xF = np.fft.fft(df.alpha)\n",
      "N = len(xF)\n",
      "xF = xF[0:N/2]\n",
      "fr = np.linspace(0,fs/2,N/2)\n",
      "\n",
      "plt.ion()\n",
      "plt.plot(fr,abs(xF)**2)"
     ],
     "language": "python",
     "metadata": {},
     "outputs": [
      {
       "output_type": "stream",
       "stream": "stderr",
       "text": [
        "-c:10: DeprecationWarning: using a non-integer number instead of an integer will result in an error in the future\n"
       ]
      },
      {
       "metadata": {},
       "output_type": "pyout",
       "prompt_number": 77,
       "text": [
        "[<matplotlib.lines.Line2D at 0x15f64b00>]"
       ]
      },
      {
       "metadata": {},
       "output_type": "display_data",
       "png": "[encoded data removed]",
       "text": [
        "<matplotlib.figure.Figure at 0x17927c50>"
       ]
      }
     ],
     "prompt_number": 77
    },
    {
     "cell_type": "code",
     "collapsed": false,
     "input": [
      "rfclf = RandomForestClassifier(max_features='log2', n_estimators=500, min_samples_split=1, compute_importances=True, n_jobs=-1).fit(X_train, y_train)\n",
      "print rfclf.feature_importances_.shape\n",
      "numfeat = 11\n",
      "indices = np.argsort(rfclf.feature_importances_)[::-1][:numfeat]\n",
      "plt.bar(xrange(numfeat), rfclf.feature_importances_[indices], align='center', alpha=.5)\n",
      "plt.xticks(xrange(numfeat), X.columns[indices], rotation='vertical', fontsize=12)\n",
      "plt.xlim([-1, numfeat])\n",
      "plt.ylabel('Feature importances', fontsize=12)\n",
      "plt.suptitle('Feature importances computed by Random Forest', fontsize=16)\n",
      "plt.f = plt.gcf()\n",
      "plt.subplots_adjust(bottom=0.3)\n",
      "plt.show()\n"
     ],
     "language": "python",
     "metadata": {},
     "outputs": [
      {
       "output_type": "stream",
       "stream": "stdout",
       "text": [
        "(11L,)\n"
       ]
      },
      {
       "output_type": "stream",
       "stream": "stderr",
       "text": [
        "C:\\Anaconda\\lib\\site-packages\\scikit_learn-0.14.1-py2.7-win-amd64.egg\\sklearn\\ensemble\\forest.py:783: DeprecationWarning: Setting compute_importances is no longer required as version 0.14. Variable importances are now computed on the fly when accessing the feature_importances_ attribute. This parameter will be removed in 0.16.\n",
        "  DeprecationWarning)\n"
       ]
      },
      {
       "metadata": {},
       "output_type": "display_data",
       "png": "[encoded data removed]",
       "text": [
        "<matplotlib.figure.Figure at 0x1a560b38>"
       ]
      }
     ],
     "prompt_number": 84
    },
    {
     "cell_type": "code",
     "collapsed": false,
     "input": [
      "from sklearn.metrics import classification_report\n",
      "# print [clf.classes_]\n",
      "target_names = [u'dislike', u'like', u'neutral']\n",
      "print(classification_report(y_test, pred, labels = target_names, target_names=target_names))"
     ],
     "language": "python",
     "metadata": {},
     "outputs": [
      {
       "ename": "ValueError",
       "evalue": "unknown is not supported",
       "output_type": "pyerr",
       "traceback": [
        "\u001b[1;31m---------------------------------------------------------------------------\u001b[0m\n\u001b[1;31mValueError\u001b[0m                                Traceback (most recent call last)",
        "\u001b[1;32m<ipython-input-93-a0f728ba2526>\u001b[0m in \u001b[0;36m<module>\u001b[1;34m()\u001b[0m\n\u001b[0;32m      2\u001b[0m \u001b[1;31m# print [clf.classes_]\u001b[0m\u001b[1;33m\u001b[0m\u001b[1;33m\u001b[0m\u001b[0m\n\u001b[0;32m      3\u001b[0m \u001b[0mtarget_names\u001b[0m \u001b[1;33m=\u001b[0m \u001b[1;33m[\u001b[0m\u001b[1;34mu'dislike'\u001b[0m\u001b[1;33m,\u001b[0m \u001b[1;34mu'like'\u001b[0m\u001b[1;33m,\u001b[0m \u001b[1;34mu'neutral'\u001b[0m\u001b[1;33m]\u001b[0m\u001b[1;33m\u001b[0m\u001b[0m\n\u001b[1;32m----> 4\u001b[1;33m \u001b[1;32mprint\u001b[0m\u001b[1;33m(\u001b[0m\u001b[0mclassification_report\u001b[0m\u001b[1;33m(\u001b[0m\u001b[0my_test\u001b[0m\u001b[1;33m,\u001b[0m \u001b[0mpred\u001b[0m\u001b[1;33m,\u001b[0m \u001b[0mlabels\u001b[0m \u001b[1;33m=\u001b[0m \u001b[0mtarget_names\u001b[0m\u001b[1;33m,\u001b[0m \u001b[0mtarget_names\u001b[0m\u001b[1;33m=\u001b[0m\u001b[0mtarget_names\u001b[0m\u001b[1;33m)\u001b[0m\u001b[1;33m)\u001b[0m\u001b[1;33m\u001b[0m\u001b[0m\n\u001b[0m",
        "\u001b[1;32mC:\\Anaconda\\lib\\site-packages\\scikit_learn-0.14.1-py2.7-win-amd64.egg\\sklearn\\metrics\\metrics.pyc\u001b[0m in \u001b[0;36mclassification_report\u001b[1;34m(y_true, y_pred, labels, target_names)\u001b[0m\n\u001b[0;32m   1903\u001b[0m     p, r, f1, s = precision_recall_fscore_support(y_true, y_pred,\n\u001b[0;32m   1904\u001b[0m                                                   \u001b[0mlabels\u001b[0m\u001b[1;33m=\u001b[0m\u001b[0mlabels\u001b[0m\u001b[1;33m,\u001b[0m\u001b[1;33m\u001b[0m\u001b[0m\n\u001b[1;32m-> 1905\u001b[1;33m                                                   average=None)\n\u001b[0m\u001b[0;32m   1906\u001b[0m \u001b[1;33m\u001b[0m\u001b[0m\n\u001b[0;32m   1907\u001b[0m     \u001b[1;32mfor\u001b[0m \u001b[0mi\u001b[0m\u001b[1;33m,\u001b[0m \u001b[0mlabel\u001b[0m \u001b[1;32min\u001b[0m \u001b[0menumerate\u001b[0m\u001b[1;33m(\u001b[0m\u001b[0mlabels\u001b[0m\u001b[1;33m)\u001b[0m\u001b[1;33m:\u001b[0m\u001b[1;33m\u001b[0m\u001b[0m\n",
        "\u001b[1;32mC:\\Anaconda\\lib\\site-packages\\scikit_learn-0.14.1-py2.7-win-amd64.egg\\sklearn\\metrics\\metrics.pyc\u001b[0m in \u001b[0;36mprecision_recall_fscore_support\u001b[1;34m(y_true, y_pred, beta, labels, pos_label, average)\u001b[0m\n\u001b[0;32m   1466\u001b[0m     \u001b[0mbeta2\u001b[0m \u001b[1;33m=\u001b[0m \u001b[0mbeta\u001b[0m \u001b[1;33m**\u001b[0m \u001b[1;36m2\u001b[0m\u001b[1;33m\u001b[0m\u001b[0m\n\u001b[0;32m   1467\u001b[0m \u001b[1;33m\u001b[0m\u001b[0m\n\u001b[1;32m-> 1468\u001b[1;33m     \u001b[0my_type\u001b[0m\u001b[1;33m,\u001b[0m \u001b[0my_true\u001b[0m\u001b[1;33m,\u001b[0m \u001b[0my_pred\u001b[0m \u001b[1;33m=\u001b[0m \u001b[0m_check_clf_targets\u001b[0m\u001b[1;33m(\u001b[0m\u001b[0my_true\u001b[0m\u001b[1;33m,\u001b[0m \u001b[0my_pred\u001b[0m\u001b[1;33m)\u001b[0m\u001b[1;33m\u001b[0m\u001b[0m\n\u001b[0m\u001b[0;32m   1469\u001b[0m \u001b[1;33m\u001b[0m\u001b[0m\n\u001b[0;32m   1470\u001b[0m     \u001b[1;32mif\u001b[0m \u001b[0mlabels\u001b[0m \u001b[1;32mis\u001b[0m \u001b[0mNone\u001b[0m\u001b[1;33m:\u001b[0m\u001b[1;33m\u001b[0m\u001b[0m\n",
        "\u001b[1;32mC:\\Anaconda\\lib\\site-packages\\scikit_learn-0.14.1-py2.7-win-amd64.egg\\sklearn\\metrics\\metrics.pyc\u001b[0m in \u001b[0;36m_check_clf_targets\u001b[1;34m(y_true, y_pred)\u001b[0m\n\u001b[0;32m    121\u001b[0m     if (y_type not in [\"binary\", \"multiclass\", \"multilabel-indicator\",\n\u001b[0;32m    122\u001b[0m                        \"multilabel-sequences\"]):\n\u001b[1;32m--> 123\u001b[1;33m         \u001b[1;32mraise\u001b[0m \u001b[0mValueError\u001b[0m\u001b[1;33m(\u001b[0m\u001b[1;34m\"{0} is not supported\"\u001b[0m\u001b[1;33m.\u001b[0m\u001b[0mformat\u001b[0m\u001b[1;33m(\u001b[0m\u001b[0my_type\u001b[0m\u001b[1;33m)\u001b[0m\u001b[1;33m)\u001b[0m\u001b[1;33m\u001b[0m\u001b[0m\n\u001b[0m\u001b[0;32m    124\u001b[0m \u001b[1;33m\u001b[0m\u001b[0m\n\u001b[0;32m    125\u001b[0m     \u001b[1;32mif\u001b[0m \u001b[0my_type\u001b[0m \u001b[1;32min\u001b[0m \u001b[1;33m[\u001b[0m\u001b[1;34m\"binary\"\u001b[0m\u001b[1;33m,\u001b[0m \u001b[1;34m\"multiclass\"\u001b[0m\u001b[1;33m]\u001b[0m\u001b[1;33m:\u001b[0m\u001b[1;33m\u001b[0m\u001b[0m\n",
        "\u001b[1;31mValueError\u001b[0m: unknown is not supported"
       ]
      }
     ],
     "prompt_number": 93
    },
    {
     "cell_type": "code",
     "collapsed": false,
     "input": [
      "np.unique(pred)"
     ],
     "language": "python",
     "metadata": {},
     "outputs": [
      {
       "metadata": {},
       "output_type": "pyout",
       "prompt_number": 95,
       "text": [
        "array([u'dislike', u'like'], dtype=object)"
       ]
      }
     ],
     "prompt_number": 95
    }
   ],
   "metadata": {}
  }
 ]
}